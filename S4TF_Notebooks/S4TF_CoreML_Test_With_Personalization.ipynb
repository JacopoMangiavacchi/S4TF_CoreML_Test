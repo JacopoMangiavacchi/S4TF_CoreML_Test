{
 "cells": [
  {
   "cell_type": "code",
   "execution_count": 1,
   "metadata": {},
   "outputs": [
    {
     "name": "stdout",
     "output_type": "stream",
     "text": [
      "Installing packages:\n",
      "\t.package(url: \"https://github.com/apple/swift-protobuf.git\", from: \"1.6.0\")\n",
      "\t\tSwiftProtobuf\n",
      "With SwiftPM flags: ['-c', 'release']\n",
      "Working in: /tmp/tmprjkpbl0q/swift-install\n",
      "Fetching https://github.com/apple/swift-protobuf.git\n",
      "Cloning https://github.com/apple/swift-protobuf.git\n",
      "Resolving https://github.com/apple/swift-protobuf.git at 1.7.0\n",
      "[1/2] Compiling SwiftProtobuf AnyMessageStorage.swift\n",
      "[2/3] Compiling jupyterInstalledPackages jupyterInstalledPackages.swift\n",
      "[3/3] Linking libjupyterInstalledPackages.so\n",
      "Initializing Swift...\n",
      "Installation complete!\n"
     ]
    }
   ],
   "source": [
    "%install-swiftpm-flags -c release\n",
    "%install '.package(url: \"https://github.com/apple/swift-protobuf.git\", from: \"1.6.0\")' SwiftProtobuf\n",
    "import SwiftProtobuf"
   ]
  },
  {
   "cell_type": "code",
   "execution_count": 2,
   "metadata": {},
   "outputs": [
    {
     "data": {
      "text/plain": [
       "('inline', 'module://ipykernel.pylab.backend_inline')\n"
      ]
     },
     "execution_count": 2,
     "metadata": {},
     "output_type": "execute_result"
    }
   ],
   "source": [
    "%include \"EnableIPythonDisplay.swift\"\n",
    "IPythonDisplay.shell.enable_matplotlib(\"inline\")"
   ]
  },
  {
   "cell_type": "code",
   "execution_count": 3,
   "metadata": {},
   "outputs": [],
   "source": [
    "import Python\n",
    "import TensorFlow"
   ]
  },
  {
   "cell_type": "code",
   "execution_count": 4,
   "metadata": {},
   "outputs": [],
   "source": [
    "let plt = Python.import(\"matplotlib.pyplot\")"
   ]
  },
  {
   "cell_type": "code",
   "execution_count": 5,
   "metadata": {},
   "outputs": [],
   "source": [
    "let SAMPLE_SIZE = 100\n",
    "\n",
    "let a: Float = 2.0\n",
    "let b: Float = 1.5\n",
    "let x = Tensor<Float>(rangeFrom: 0, to: 1, stride: 1.0 / Float(SAMPLE_SIZE))\n",
    "let noise = (Tensor<Float>(randomNormal: [SAMPLE_SIZE]) - 0.5) * 0.1\n",
    "let y = (a * x + b) + noise"
   ]
  },
  {
   "cell_type": "code",
   "execution_count": 6,
   "metadata": {},
   "outputs": [
    {
     "data": {
      "image/png": "[encoded data removed]",
      "text/plain": [
       "<Figure size 432x288 with 1 Axes>"
      ]
     },
     "metadata": {},
     "output_type": "display_data"
    },
    {
     "data": {
      "text/plain": [
       "None\n"
      ]
     },
     "execution_count": 6,
     "metadata": {},
     "output_type": "execute_result"
    }
   ],
   "source": [
    "plt.clf()\n",
    "plt.plot(x.makeNumpyArray(), y.makeNumpyArray(), marker: \"x\")\n",
    "plt.show()"
   ]
  },
  {
   "cell_type": "code",
   "execution_count": 7,
   "metadata": {},
   "outputs": [
    {
     "name": "stdout",
     "output_type": "stream",
     "text": [
      "[100]\r\n",
      "[100]\r\n"
     ]
    }
   ],
   "source": [
    "print(x.shape)\n",
    "print(y.shape)"
   ]
  },
  {
   "cell_type": "code",
   "execution_count": 8,
   "metadata": {},
   "outputs": [
    {
     "name": "stdout",
     "output_type": "stream",
     "text": [
      "[100, 1]\r\n",
      "[100, 1]\r\n"
     ]
    }
   ],
   "source": [
    "let X = x.reshaped(toShape: [100, 1]) //SAMPLE_SIZE\n",
    "let Y = y.reshaped(toShape: [100, 1]) //SAMPLE_SIZE\n",
    "print(X.shape)\n",
    "print(Y.shape)"
   ]
  },
  {
   "cell_type": "code",
   "execution_count": 9,
   "metadata": {},
   "outputs": [],
   "source": [
    "struct LinearRegression: Layer {\n",
    "    var layer1 = Dense<Float>(inputSize: 1, outputSize: 1, activation: identity)\n",
    "    \n",
    "    @differentiable\n",
    "    func callAsFunction(_ input: Tensor<Float>) -> Tensor<Float> {\n",
    "        return layer1(input)\n",
    "    }\n",
    "}\n"
   ]
  },
  {
   "cell_type": "code",
   "execution_count": 10,
   "metadata": {},
   "outputs": [],
   "source": [
    "var regression = LinearRegression()\n",
    "let optimizer = SGD(for: regression, learningRate: 0.03)\n",
    "Context.local.learningPhase = .training"
   ]
  },
  {
   "cell_type": "code",
   "execution_count": 11,
   "metadata": {},
   "outputs": [
    {
     "name": "stdout",
     "output_type": "stream",
     "text": [
      "Loss: 9.029919\n",
      "Loss: 7.74655\n",
      "Loss: 6.649976\n",
      "Loss: 5.7129736\n",
      "Loss: 4.9122906\n",
      "Loss: 4.22806\n",
      "Loss: 3.6433098\n",
      "Loss: 3.1435456\n",
      "Loss: 2.7163815\n",
      "Loss: 2.3512392\n",
      "Loss: 2.0390809\n",
      "Loss: 1.7721862\n",
      "Loss: 1.54396\n",
      "Loss: 1.3487687\n",
      "Loss: 1.1817993\n",
      "Loss: 1.0389403\n",
      "Loss: 0.91667974\n",
      "Loss: 0.81201714\n",
      "Loss: 0.7223894\n",
      "Loss: 0.645607\n",
      "Loss: 0.5797997\n",
      "Loss: 0.5233695\n",
      "Loss: 0.47495145\n",
      "Loss: 0.43337953\n",
      "Loss: 0.39765763\n",
      "Loss: 0.36693475\n",
      "Loss: 0.34048393\n",
      "Loss: 0.31768426\n",
      "Loss: 0.2980051\n",
      "Loss: 0.28099334\n",
      "Loss: 0.26626182\n",
      "Loss: 0.25347972\n",
      "Loss: 0.24236454\n",
      "Loss: 0.23267482\n",
      "Loss: 0.22420436\n",
      "Loss: 0.21677704\n",
      "Loss: 0.21024229\n",
      "Loss: 0.20447157\n",
      "Loss: 0.19935498\n",
      "Loss: 0.19479868\n",
      "Loss: 0.19072248\n",
      "Loss: 0.18705784\n",
      "Loss: 0.18374622\n",
      "Loss: 0.18073764\n",
      "Loss: 0.17798929\n",
      "Loss: 0.1754647\n",
      "Loss: 0.17313263\n",
      "Loss: 0.17096642\n",
      "Loss: 0.16894329\n",
      "Loss: 0.16704375\n",
      "Loss: 0.16525108\n",
      "Loss: 0.16355114\n",
      "Loss: 0.1619317\n",
      "Loss: 0.16038233\n",
      "Loss: 0.15889415\n",
      "Loss: 0.15745956\n",
      "Loss: 0.15607202\n",
      "Loss: 0.15472597\n",
      "Loss: 0.15341662\n",
      "Loss: 0.15213987\n",
      "Loss: 0.15089223\n",
      "Loss: 0.14967072\n",
      "Loss: 0.14847274\n",
      "Loss: 0.14729609\n",
      "Loss: 0.14613886\n",
      "Loss: 0.14499943\n",
      "Loss: 0.1438764\n",
      "Loss: 0.14276858\n",
      "Loss: 0.14167488\n",
      "Loss: 0.14059444\n",
      "Loss: 0.1395265\n",
      "Loss: 0.13847035\n",
      "Loss: 0.13742542\n",
      "Loss: 0.13639122\n",
      "Loss: 0.13536726\n",
      "Loss: 0.13435322\n",
      "Loss: 0.1333487\n",
      "Loss: 0.13235345\n",
      "Loss: 0.13136718\n",
      "Loss: 0.13038966\n",
      "Loss: 0.12942067\n",
      "Loss: 0.12846005\n",
      "Loss: 0.1275076\n",
      "Loss: 0.1265632\n",
      "Loss: 0.12562671\n",
      "Loss: 0.12469797\n",
      "Loss: 0.123776905\n",
      "Loss: 0.12286339\n",
      "Loss: 0.12195734\n",
      "Loss: 0.12105861\n",
      "Loss: 0.12016721\n",
      "Loss: 0.11928297\n",
      "Loss: 0.118405856\n",
      "Loss: 0.11753576\n",
      "Loss: 0.11667266\n",
      "Loss: 0.11581642\n",
      "Loss: 0.11496706\n",
      "Loss: 0.11412445\n",
      "Loss: 0.11328854\n",
      "Loss: 0.11245928\n"
     ]
    }
   ],
   "source": [
    "for _ in 0..<100 { //1000\n",
    "    let 𝛁model = regression.gradient { r -> Tensor<Float> in\n",
    "        let ŷ = r(X)\n",
    "        let loss = meanSquaredError(predicted: ŷ, expected: Y)\n",
    "        print(\"Loss: \\(loss)\")\n",
    "        return loss\n",
    "    }\n",
    "    optimizer.update(&regression, along: 𝛁model)\n",
    "}"
   ]
  },
  {
   "cell_type": "code",
   "execution_count": 12,
   "metadata": {},
   "outputs": [
    {
     "name": "stdout",
     "output_type": "stream",
     "text": [
      "0.8645877 2.0458913\r\n"
     ]
    }
   ],
   "source": [
    "let weight = Float(regression.layer1.weight[0][0])!\n",
    "let bias = Float(regression.layer1.bias[0])!\n",
    "print(weight, bias)"
   ]
  },
  {
   "cell_type": "code",
   "execution_count": 13,
   "metadata": {},
   "outputs": [],
   "source": [
    "Context.local.learningPhase = .inference\n",
    "let score = regression(X)\n",
    "let y2 = score.reshaped(toShape: [100])"
   ]
  },
  {
   "cell_type": "code",
   "execution_count": 14,
   "metadata": {},
   "outputs": [
    {
     "data": {
      "image/png": "[encoded data removed]",
      "text/plain": [
       "<Figure size 432x288 with 1 Axes>"
      ]
     },
     "metadata": {},
     "output_type": "display_data"
    },
    {
     "data": {
      "text/plain": [
       "None\n"
      ]
     },
     "execution_count": 14,
     "metadata": {},
     "output_type": "execute_result"
    }
   ],
   "source": [
    "plt.clf()\n",
    "plt.plot(x.makeNumpyArray(), y2.makeNumpyArray(), marker: \"x\")\n",
    "plt.show()"
   ]
  },
  {
   "cell_type": "code",
   "execution_count": 15,
   "metadata": {},
   "outputs": [],
   "source": [
    "%include \"./CoreMLProto/ArrayFeatureExtractor.pb.swift\""
   ]
  },
  {
   "cell_type": "code",
   "execution_count": 16,
   "metadata": {},
   "outputs": [],
   "source": [
    "%include \"./CoreMLProto/BayesianProbitRegressor.pb.swift\""
   ]
  },
  {
   "cell_type": "code",
   "execution_count": 17,
   "metadata": {},
   "outputs": [],
   "source": [
    "%include \"./CoreMLProto/DataStructures.pb.swift\""
   ]
  },
  {
   "cell_type": "code",
   "execution_count": 18,
   "metadata": {},
   "outputs": [],
   "source": [
    "%include \"./CoreMLProto/CategoricalMapping.pb.swift\""
   ]
  },
  {
   "cell_type": "code",
   "execution_count": 19,
   "metadata": {},
   "outputs": [],
   "source": [
    "%include \"./CoreMLProto/CustomModel.pb.swift\""
   ]
  },
  {
   "cell_type": "code",
   "execution_count": 20,
   "metadata": {},
   "outputs": [],
   "source": [
    "%include \"./CoreMLProto/DictVectorizer.pb.swift\""
   ]
  },
  {
   "cell_type": "code",
   "execution_count": 21,
   "metadata": {},
   "outputs": [],
   "source": [
    "%include \"./CoreMLProto/FeatureTypes.pb.swift\""
   ]
  },
  {
   "cell_type": "code",
   "execution_count": 22,
   "metadata": {},
   "outputs": [],
   "source": [
    "%include \"./CoreMLProto/FeatureVectorizer.pb.swift\""
   ]
  },
  {
   "cell_type": "code",
   "execution_count": 23,
   "metadata": {},
   "outputs": [],
   "source": [
    "%include \"./CoreMLProto/GLMClassifier.pb.swift\""
   ]
  },
  {
   "cell_type": "code",
   "execution_count": 24,
   "metadata": {},
   "outputs": [],
   "source": [
    "%include \"./CoreMLProto/GLMRegressor.pb.swift\""
   ]
  },
  {
   "cell_type": "code",
   "execution_count": 25,
   "metadata": {},
   "outputs": [],
   "source": [
    "%include \"./CoreMLProto/Gazetteer.pb.swift\""
   ]
  },
  {
   "cell_type": "code",
   "execution_count": 26,
   "metadata": {},
   "outputs": [],
   "source": [
    "%include \"./CoreMLProto/Identity.pb.swift\""
   ]
  },
  {
   "cell_type": "code",
   "execution_count": 27,
   "metadata": {},
   "outputs": [],
   "source": [
    "%include \"./CoreMLProto/Imputer.pb.swift\""
   ]
  },
  {
   "cell_type": "code",
   "execution_count": 28,
   "metadata": {},
   "outputs": [],
   "source": [
    "%include \"./CoreMLProto/Scaler.pb.swift\""
   ]
  },
  {
   "cell_type": "code",
   "execution_count": 29,
   "metadata": {},
   "outputs": [],
   "source": [
    "%include \"./CoreMLProto/ItemSimilarityRecommender.pb.swift\""
   ]
  },
  {
   "cell_type": "code",
   "execution_count": 30,
   "metadata": {},
   "outputs": [],
   "source": [
    "%include \"./CoreMLProto/Parameters.pb.swift\""
   ]
  },
  {
   "cell_type": "code",
   "execution_count": 31,
   "metadata": {},
   "outputs": [],
   "source": [
    "%include \"./CoreMLProto/Normalizer.pb.swift\""
   ]
  },
  {
   "cell_type": "code",
   "execution_count": 32,
   "metadata": {},
   "outputs": [],
   "source": [
    "%include \"./CoreMLProto/LinkedModel.pb.swift\""
   ]
  },
  {
   "cell_type": "code",
   "execution_count": 33,
   "metadata": {},
   "outputs": [],
   "source": [
    "%include \"./CoreMLProto/NearestNeighbors.pb.swift\""
   ]
  },
  {
   "cell_type": "code",
   "execution_count": 34,
   "metadata": {},
   "outputs": [],
   "source": [
    "%include \"./CoreMLProto/NonMaximumSuppression.pb.swift\""
   ]
  },
  {
   "cell_type": "code",
   "execution_count": 35,
   "metadata": {},
   "outputs": [],
   "source": [
    "%include \"./CoreMLProto/OneHotEncoder.pb.swift\""
   ]
  },
  {
   "cell_type": "code",
   "execution_count": 36,
   "metadata": {},
   "outputs": [],
   "source": [
    "%include \"./CoreMLProto/SVM.pb.swift\""
   ]
  },
  {
   "cell_type": "code",
   "execution_count": 37,
   "metadata": {},
   "outputs": [],
   "source": [
    "%include \"./CoreMLProto/SoundAnalysisPreprocessing.pb.swift\""
   ]
  },
  {
   "cell_type": "code",
   "execution_count": 38,
   "metadata": {},
   "outputs": [],
   "source": [
    "%include \"./CoreMLProto/TextClassifier.pb.swift\""
   ]
  },
  {
   "cell_type": "code",
   "execution_count": 39,
   "metadata": {},
   "outputs": [],
   "source": [
    "%include \"./CoreMLProto/TreeEnsemble.pb.swift\""
   ]
  },
  {
   "cell_type": "code",
   "execution_count": 40,
   "metadata": {},
   "outputs": [],
   "source": [
    "%include \"./CoreMLProto/VisionFeaturePrint.pb.swift\""
   ]
  },
  {
   "cell_type": "code",
   "execution_count": 41,
   "metadata": {},
   "outputs": [],
   "source": [
    "%include \"./CoreMLProto/WordEmbedding.pb.swift\""
   ]
  },
  {
   "cell_type": "code",
   "execution_count": 42,
   "metadata": {},
   "outputs": [],
   "source": [
    "%include \"./CoreMLProto/WordTagger.pb.swift\""
   ]
  },
  {
   "cell_type": "code",
   "execution_count": 43,
   "metadata": {},
   "outputs": [],
   "source": [
    "%include \"./CoreMLProto/NeuralNetwork.pb.swift\""
   ]
  },
  {
   "cell_type": "code",
   "execution_count": 44,
   "metadata": {},
   "outputs": [],
   "source": [
    "%include \"./CoreMLProto/Model.pb.swift\""
   ]
  },
  {
   "cell_type": "code",
   "execution_count": 54,
   "metadata": {},
   "outputs": [],
   "source": [
    "let coreModel = CoreML_Specification_Model.with {\n",
    "    $0.specificationVersion = 4\n",
    "    $0.description_p = CoreML_Specification_ModelDescription.with {\n",
    "        $0.input = [CoreML_Specification_FeatureDescription.with {\n",
    "            $0.name = \"dense_input\"\n",
    "            $0.type = CoreML_Specification_FeatureType.with {\n",
    "                $0.multiArrayType = CoreML_Specification_ArrayFeatureType.with {\n",
    "                    $0.shape = [1]\n",
    "                    $0.dataType = CoreML_Specification_ArrayFeatureType.ArrayDataType.double\n",
    "                }\n",
    "            }\n",
    "        }]\n",
    "        $0.output = [CoreML_Specification_FeatureDescription.with {\n",
    "            $0.name = \"output\"\n",
    "            $0.type = CoreML_Specification_FeatureType.with {\n",
    "                $0.multiArrayType = CoreML_Specification_ArrayFeatureType.with {\n",
    "                    $0.shape = [1]\n",
    "                    $0.dataType = CoreML_Specification_ArrayFeatureType.ArrayDataType.double\n",
    "                }\n",
    "            }\n",
    "        }]\n",
    "        $0.trainingInput = [CoreML_Specification_FeatureDescription.with {\n",
    "            $0.name = \"dense_input\"\n",
    "            $0.type = CoreML_Specification_FeatureType.with {\n",
    "                $0.multiArrayType = CoreML_Specification_ArrayFeatureType.with {\n",
    "                    $0.shape = [1]\n",
    "                    $0.dataType = CoreML_Specification_ArrayFeatureType.ArrayDataType.double\n",
    "                }\n",
    "            }\n",
    "        }, CoreML_Specification_FeatureDescription.with {\n",
    "            $0.name = \"output_true\"\n",
    "            $0.type = CoreML_Specification_FeatureType.with {\n",
    "                $0.multiArrayType = CoreML_Specification_ArrayFeatureType.with {\n",
    "                    $0.shape = [1]\n",
    "                    $0.dataType = CoreML_Specification_ArrayFeatureType.ArrayDataType.double\n",
    "                }\n",
    "            }\n",
    "\n",
    "        }]\n",
    "        $0.metadata = CoreML_Specification_Metadata.with {\n",
    "            $0.shortDescription = \"Trivial linear classifier\"\n",
    "            $0.author = \"Jacopo Mangiavacchi\"\n",
    "            $0.license = \"MIT\"\n",
    "            $0.userDefined = [\"coremltoolsVersion\" : \"3.1\"]\n",
    "        }\n",
    "    }\n",
    "    $0.isUpdatable = true\n",
    "    $0.neuralNetwork = CoreML_Specification_NeuralNetwork.with {\n",
    "        $0.layers = [CoreML_Specification_NeuralNetworkLayer.with {\n",
    "            $0.name = \"dense_1\"\n",
    "            $0.input = [\"dense_input\"]\n",
    "            $0.output = [\"output\"]\n",
    "            $0.isUpdatable = true\n",
    "            $0.innerProduct = CoreML_Specification_InnerProductLayerParams.with {\n",
    "                $0.inputChannels = 1\n",
    "                $0.outputChannels = 1\n",
    "                $0.hasBias_p = true\n",
    "                $0.weights = CoreML_Specification_WeightParams.with {\n",
    "                    $0.floatValue = [weight]\n",
    "                    $0.isUpdatable = true\n",
    "                }\n",
    "                $0.bias = CoreML_Specification_WeightParams.with {\n",
    "                    $0.floatValue = [bias]\n",
    "                    $0.isUpdatable = true\n",
    "                }\n",
    "            }\n",
    "        }]\n",
    "        $0.updateParams = CoreML_Specification_NetworkUpdateParameters.with {\n",
    "            $0.lossLayers = [CoreML_Specification_LossLayer.with {\n",
    "                $0.name = \"lossLayer\"\n",
    "                $0.meanSquaredErrorLossLayer = CoreML_Specification_MeanSquaredErrorLossLayer.with {\n",
    "                    $0.input = \"output\"\n",
    "                    $0.target = \"output_true\"\n",
    "                }\n",
    "            }]\n",
    "            $0.optimizer = CoreML_Specification_Optimizer.with {\n",
    "                $0.sgdOptimizer = CoreML_Specification_SGDOptimizer.with {\n",
    "                    $0.learningRate = CoreML_Specification_DoubleParameter.with {\n",
    "                        $0.defaultValue = 0.03\n",
    "                        $0.range = CoreML_Specification_DoubleRange.with {\n",
    "                            $0.maxValue = 1.0\n",
    "                        }\n",
    "                    }\n",
    "                    $0.miniBatchSize = CoreML_Specification_Int64Parameter.with {\n",
    "                        $0.defaultValue = 1\n",
    "                        $0.set = CoreML_Specification_Int64Set.with {\n",
    "                            $0.values = [1]\n",
    "                        }\n",
    "                    }\n",
    "                    $0.momentum = CoreML_Specification_DoubleParameter.with {\n",
    "                        $0.defaultValue = 0\n",
    "                        $0.range = CoreML_Specification_DoubleRange.with {\n",
    "                            $0.maxValue = 1.0\n",
    "                        }\n",
    "                    }\n",
    "                }\n",
    "            }\n",
    "            $0.epochs = CoreML_Specification_Int64Parameter.with {\n",
    "                $0.defaultValue = 100\n",
    "                $0.set = CoreML_Specification_Int64Set.with {\n",
    "                    $0.values = [100]\n",
    "                }\n",
    "            }\n",
    "            $0.shuffle = CoreML_Specification_BoolParameter.with {\n",
    "                $0.defaultValue = true\n",
    "            }\n",
    "        }\n",
    "    }\n",
    "}"
   ]
  },
  {
   "cell_type": "code",
   "execution_count": 55,
   "metadata": {},
   "outputs": [],
   "source": [
    "let binaryModelData: Data = try coreModel.serializedData()"
   ]
  },
  {
   "cell_type": "code",
   "execution_count": 56,
   "metadata": {},
   "outputs": [],
   "source": [
    "binaryModelData.write(to: URL(fileURLWithPath: \"./s4tf_model_personalization.mlmodel\"))"
   ]
  },
  {
   "cell_type": "code",
   "execution_count": null,
   "metadata": {},
   "outputs": [],
   "source": []
  }
 ],
 "metadata": {
  "kernelspec": {
   "display_name": "Swift",
   "language": "swift",
   "name": "swift"
  },
  "language_info": {
   "file_extension": ".swift",
   "mimetype": "text/x-swift",
   "name": "swift",
   "version": ""
  }
 },
 "nbformat": 4,
 "nbformat_minor": 2
}
