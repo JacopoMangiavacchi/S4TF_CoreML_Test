{
 "cells": [
  {
   "cell_type": "code",
   "execution_count": 1,
   "metadata": {},
   "outputs": [
    {
     "name": "stderr",
     "output_type": "stream",
     "text": [
      "WARNING:root:TensorFlow version 2.0.0 detected. Last version known to be fully compatible is 1.14.0 .\n"
     ]
    }
   ],
   "source": [
    "import tensorflow as tf\n",
    "from tensorflow.keras.models import Sequential, Model\n",
    "from tensorflow.keras.layers import Dense, Flatten, Input\n",
    "\n",
    "import tfcoreml"
   ]
  },
  {
   "cell_type": "code",
   "execution_count": 2,
   "metadata": {},
   "outputs": [],
   "source": [
    "keras_model = Sequential([\n",
    "    Dense(10, input_shape=(3,)),\n",
    "    Dense(3, activation='softmax')\n",
    "])\n",
    "\n",
    "keras_model.save('./model.h5')"
   ]
  },
  {
   "cell_type": "code",
   "execution_count": 3,
   "metadata": {},
   "outputs": [
    {
     "name": "stdout",
     "output_type": "stream",
     "text": [
      "(None, 3)\n",
      "dense_input\n",
      "dense_1/Identity\n",
      "Identity\n",
      "WARNING:tensorflow:No training configuration found in save file: the model was *not* compiled. Compile it manually.\n"
     ]
    },
    {
     "name": "stderr",
     "output_type": "stream",
     "text": [
      "WARNING:tensorflow:No training configuration found in save file: the model was *not* compiled. Compile it manually.\n"
     ]
    },
    {
     "name": "stdout",
     "output_type": "stream",
     "text": [
      "0 assert nodes deleted\n",
      "['sequential/dense/BiasAdd/ReadVariableOp/resource:0', 'sequential/dense/MatMul/ReadVariableOp/resource:0', 'sequential/dense_1/BiasAdd/ReadVariableOp:0', 'sequential/dense_1/MatMul/ReadVariableOp/resource:0', 'sequential/dense_1/BiasAdd/ReadVariableOp/resource:0', 'sequential/dense_1/MatMul/ReadVariableOp:0', 'sequential/dense/MatMul/ReadVariableOp:0', 'sequential/dense/BiasAdd/ReadVariableOp:0']\n",
      "4 nodes deleted\n",
      "0 nodes deleted\n",
      "0 nodes deleted\n",
      "[Op Fusion] fuse_bias_add() deleted 4 nodes.\n",
      "2 identity nodes deleted\n",
      "2 disconnected nodes deleted\n",
      "[SSAConverter] Converting function main ...\n",
      "[SSAConverter] [1/4] Converting op type: 'Placeholder', name: 'dense_input', output_shape: (1, 3).\n",
      "[SSAConverter] [2/4] Converting op type: 'MatMul', name: 'sequential/dense/MatMul', output_shape: (1, 10).\n",
      "[SSAConverter] [3/4] Converting op type: 'MatMul', name: 'sequential/dense_1/MatMul', output_shape: (1, 3).\n",
      "[SSAConverter] [4/4] Converting op type: 'Softmax', name: 'Identity', output_shape: (1, 3).\n"
     ]
    },
    {
     "data": {
      "text/plain": [
       "input {\n",
       "  name: \"dense_input\"\n",
       "  type {\n",
       "    multiArrayType {\n",
       "      shape: 1\n",
       "      shape: 3\n",
       "      dataType: DOUBLE\n",
       "    }\n",
       "  }\n",
       "}\n",
       "output {\n",
       "  name: \"Identity\"\n",
       "  type {\n",
       "    multiArrayType {\n",
       "      dataType: DOUBLE\n",
       "    }\n",
       "  }\n",
       "}\n",
       "metadata {\n",
       "  userDefined {\n",
       "    key: \"coremltoolsVersion\"\n",
       "    value: \"3.1\"\n",
       "  }\n",
       "}"
      ]
     },
     "execution_count": 3,
     "metadata": {},
     "output_type": "execute_result"
    }
   ],
   "source": [
    "print(keras_model.input_shape)\n",
    "\n",
    "# get input, output node names for the TF graph from the Keras model\n",
    "input_name = keras_model.inputs[0].name.split(':')[0]\n",
    "keras_output_node_name = keras_model.outputs[0].name.split(':')[0]\n",
    "graph_output_node_name = keras_output_node_name.split('/')[-1]\n",
    "\n",
    "print(input_name)\n",
    "print(keras_output_node_name)\n",
    "print(graph_output_node_name)\n",
    "\n",
    "core_model = tfcoreml.convert(tf_model_path='./model.h5',\n",
    "                         input_name_shape_dict={input_name: (1, 3)},\n",
    "                         output_feature_names=[graph_output_node_name],\n",
    "                         minimum_ios_deployment_target='13')\n",
    "core_model.save('./model.mlmodel')\n",
    "\n",
    "core_model"
   ]
  },
  {
   "cell_type": "code",
   "execution_count": 4,
   "metadata": {},
   "outputs": [
    {
     "data": {
      "text/plain": [
       "specificationVersion: 4\n",
       "description {\n",
       "  input {\n",
       "    name: \"dense_input\"\n",
       "    type {\n",
       "      multiArrayType {\n",
       "        shape: 1\n",
       "        shape: 3\n",
       "        dataType: DOUBLE\n",
       "      }\n",
       "    }\n",
       "  }\n",
       "  output {\n",
       "    name: \"Identity\"\n",
       "    type {\n",
       "      multiArrayType {\n",
       "        dataType: DOUBLE\n",
       "      }\n",
       "    }\n",
       "  }\n",
       "  metadata {\n",
       "    userDefined {\n",
       "      key: \"coremltoolsVersion\"\n",
       "      value: \"3.1\"\n",
       "    }\n",
       "  }\n",
       "}\n",
       "neuralNetwork {\n",
       "  layers {\n",
       "    name: \"sequential/dense/MatMul\"\n",
       "    input: \"dense_input\"\n",
       "    output: \"sequential/dense/MatMul\"\n",
       "    inputTensor {\n",
       "      rank: 2\n",
       "      dimValue: 1\n",
       "      dimValue: 3\n",
       "    }\n",
       "    outputTensor {\n",
       "      rank: 2\n",
       "      dimValue: 1\n",
       "      dimValue: 10\n",
       "    }\n",
       "    batchedMatmul {\n",
       "      weightMatrixFirstDimension: 3\n",
       "      weightMatrixSecondDimension: 10\n",
       "      hasBias: true\n",
       "      weights {\n",
       "        floatValue: -0.2486245036125183\n",
       "        floatValue: 0.5589599609375\n",
       "        floatValue: -0.1447615623474121\n",
       "        floatValue: -0.19452276825904846\n",
       "        floatValue: 0.19196957349777222\n",
       "        floatValue: 0.0944373607635498\n",
       "        floatValue: -0.4081448018550873\n",
       "        floatValue: 0.23716473579406738\n",
       "        floatValue: -0.4537341892719269\n",
       "        floatValue: 0.5684911012649536\n",
       "        floatValue: 0.014357507228851318\n",
       "        floatValue: -0.2633969783782959\n",
       "        floatValue: -0.0670819878578186\n",
       "        floatValue: 0.5812227725982666\n",
       "        floatValue: -0.35711437463760376\n",
       "        floatValue: 0.0366172194480896\n",
       "        floatValue: -0.604446530342102\n",
       "        floatValue: 0.41323578357696533\n",
       "        floatValue: -0.20239922404289246\n",
       "        floatValue: -0.1033782958984375\n",
       "        floatValue: -0.31017541885375977\n",
       "        floatValue: 0.21955466270446777\n",
       "        floatValue: 0.5923765897750854\n",
       "        floatValue: -0.20452526211738586\n",
       "        floatValue: -0.34949272871017456\n",
       "        floatValue: 0.4865659475326538\n",
       "        floatValue: 0.46777474880218506\n",
       "        floatValue: -0.32211190462112427\n",
       "        floatValue: -0.32838547229766846\n",
       "        floatValue: -0.0862317681312561\n",
       "      }\n",
       "      bias {\n",
       "        floatValue: 0.0\n",
       "        floatValue: 0.0\n",
       "        floatValue: 0.0\n",
       "        floatValue: 0.0\n",
       "        floatValue: 0.0\n",
       "        floatValue: 0.0\n",
       "        floatValue: 0.0\n",
       "        floatValue: 0.0\n",
       "        floatValue: 0.0\n",
       "        floatValue: 0.0\n",
       "      }\n",
       "    }\n",
       "  }\n",
       "  layers {\n",
       "    name: \"sequential/dense_1/MatMul\"\n",
       "    input: \"sequential/dense/MatMul\"\n",
       "    output: \"sequential/dense_1/MatMul\"\n",
       "    inputTensor {\n",
       "      rank: 2\n",
       "      dimValue: 1\n",
       "      dimValue: 10\n",
       "    }\n",
       "    outputTensor {\n",
       "      rank: 2\n",
       "      dimValue: 1\n",
       "      dimValue: 3\n",
       "    }\n",
       "    batchedMatmul {\n",
       "      weightMatrixFirstDimension: 10\n",
       "      weightMatrixSecondDimension: 3\n",
       "      hasBias: true\n",
       "      weights {\n",
       "        floatValue: -0.10072386264801025\n",
       "        floatValue: -0.09528160095214844\n",
       "        floatValue: -0.26519230008125305\n",
       "        floatValue: -0.1987892985343933\n",
       "        floatValue: -0.482144832611084\n",
       "        floatValue: -0.5124380588531494\n",
       "        floatValue: -0.6416630148887634\n",
       "        floatValue: 0.14691585302352905\n",
       "        floatValue: 0.6166466474533081\n",
       "        floatValue: -0.6002905964851379\n",
       "        floatValue: -0.09653282165527344\n",
       "        floatValue: -0.4564554989337921\n",
       "        floatValue: -0.5386786460876465\n",
       "        floatValue: 0.507492184638977\n",
       "        floatValue: -0.5991094708442688\n",
       "        floatValue: -0.07140910625457764\n",
       "        floatValue: 0.41161656379699707\n",
       "        floatValue: 0.654814600944519\n",
       "        floatValue: 0.20125359296798706\n",
       "        floatValue: -0.03092414140701294\n",
       "        floatValue: 0.15916943550109863\n",
       "        floatValue: -0.6622645854949951\n",
       "        floatValue: -0.0017211437225341797\n",
       "        floatValue: 0.19077551364898682\n",
       "        floatValue: 0.5395694971084595\n",
       "        floatValue: -0.13483810424804688\n",
       "        floatValue: -0.5819412469863892\n",
       "        floatValue: -0.6478219032287598\n",
       "        floatValue: -0.42107725143432617\n",
       "        floatValue: 0.1807299256324768\n",
       "      }\n",
       "      bias {\n",
       "        floatValue: 0.0\n",
       "        floatValue: 0.0\n",
       "        floatValue: 0.0\n",
       "      }\n",
       "    }\n",
       "  }\n",
       "  layers {\n",
       "    name: \"Identity\"\n",
       "    input: \"sequential/dense_1/MatMul\"\n",
       "    output: \"Identity\"\n",
       "    inputTensor {\n",
       "      rank: 2\n",
       "      dimValue: 1\n",
       "      dimValue: 3\n",
       "    }\n",
       "    outputTensor {\n",
       "      rank: 2\n",
       "      dimValue: 1\n",
       "      dimValue: 3\n",
       "    }\n",
       "    softmaxND {\n",
       "      axis: -1\n",
       "    }\n",
       "  }\n",
       "  arrayInputShapeMapping: EXACT_ARRAY_MAPPING\n",
       "  imageInputShapeMapping: RANK4_IMAGE_MAPPING\n",
       "}"
      ]
     },
     "execution_count": 4,
     "metadata": {},
     "output_type": "execute_result"
    }
   ],
   "source": [
    "spec = core_model.get_spec()\n",
    "spec"
   ]
  },
  {
   "cell_type": "code",
   "execution_count": 10,
   "metadata": {},
   "outputs": [
    {
     "ename": "RuntimeError",
     "evalue": "{\n    NSLocalizedDescription = \"Required input feature not passed to neural network.\";\n}",
     "output_type": "error",
     "traceback": [
      "\u001b[0;31m---------------------------------------------------------------------------\u001b[0m",
      "\u001b[0;31mRuntimeError\u001b[0m                              Traceback (most recent call last)",
      "\u001b[0;32m<ipython-input-10-054c0ca976de>\u001b[0m in \u001b[0;36m<module>\u001b[0;34m\u001b[0m\n\u001b[1;32m      1\u001b[0m \u001b[0mdata\u001b[0m \u001b[0;34m=\u001b[0m \u001b[0;34m{\u001b[0m\u001b[0;34m'dense_input'\u001b[0m\u001b[0;34m:\u001b[0m \u001b[0;34m[\u001b[0m\u001b[0;34m[\u001b[0m\u001b[0;34m[\u001b[0m\u001b[0;36m1.0\u001b[0m\u001b[0;34m,\u001b[0m \u001b[0;36m1.0\u001b[0m\u001b[0;34m,\u001b[0m \u001b[0;36m1.0\u001b[0m\u001b[0;34m]\u001b[0m\u001b[0;34m]\u001b[0m\u001b[0;34m]\u001b[0m\u001b[0;34m}\u001b[0m\u001b[0;34m\u001b[0m\u001b[0;34m\u001b[0m\u001b[0m\n\u001b[0;32m----> 2\u001b[0;31m \u001b[0mpredictions\u001b[0m \u001b[0;34m=\u001b[0m \u001b[0mcore_model\u001b[0m\u001b[0;34m.\u001b[0m\u001b[0mpredict\u001b[0m\u001b[0;34m(\u001b[0m\u001b[0mdata\u001b[0m\u001b[0;34m)\u001b[0m\u001b[0;34m\u001b[0m\u001b[0;34m\u001b[0m\u001b[0m\n\u001b[0m",
      "\u001b[0;32m/System/Volumes/Data/Anaconda/anaconda3/envs/tf2/lib/python3.7/site-packages/coremltools/models/model.py\u001b[0m in \u001b[0;36mpredict\u001b[0;34m(self, data, useCPUOnly, **kwargs)\u001b[0m\n\u001b[1;32m    328\u001b[0m \u001b[0;34m\u001b[0m\u001b[0m\n\u001b[1;32m    329\u001b[0m         \u001b[0;32mif\u001b[0m \u001b[0mself\u001b[0m\u001b[0;34m.\u001b[0m\u001b[0m__proxy__\u001b[0m\u001b[0;34m:\u001b[0m\u001b[0;34m\u001b[0m\u001b[0;34m\u001b[0m\u001b[0m\n\u001b[0;32m--> 330\u001b[0;31m             \u001b[0;32mreturn\u001b[0m \u001b[0mself\u001b[0m\u001b[0;34m.\u001b[0m\u001b[0m__proxy__\u001b[0m\u001b[0;34m.\u001b[0m\u001b[0mpredict\u001b[0m\u001b[0;34m(\u001b[0m\u001b[0mdata\u001b[0m\u001b[0;34m,\u001b[0m \u001b[0museCPUOnly\u001b[0m\u001b[0;34m)\u001b[0m\u001b[0;34m\u001b[0m\u001b[0;34m\u001b[0m\u001b[0m\n\u001b[0m\u001b[1;32m    331\u001b[0m         \u001b[0;32melse\u001b[0m\u001b[0;34m:\u001b[0m\u001b[0;34m\u001b[0m\u001b[0;34m\u001b[0m\u001b[0m\n\u001b[1;32m    332\u001b[0m             \u001b[0;32mif\u001b[0m \u001b[0m_macos_version\u001b[0m\u001b[0;34m(\u001b[0m\u001b[0;34m)\u001b[0m \u001b[0;34m<\u001b[0m \u001b[0;34m(\u001b[0m\u001b[0;36m10\u001b[0m\u001b[0;34m,\u001b[0m \u001b[0;36m13\u001b[0m\u001b[0;34m)\u001b[0m\u001b[0;34m:\u001b[0m\u001b[0;34m\u001b[0m\u001b[0;34m\u001b[0m\u001b[0m\n",
      "\u001b[0;31mRuntimeError\u001b[0m: {\n    NSLocalizedDescription = \"Required input feature not passed to neural network.\";\n}"
     ]
    }
   ],
   "source": [
    "data = {'dense_input': [[1.0, 1.0, 1.0]]}\n",
    "predictions = core_model.predict(data)"
   ]
  },
  {
   "cell_type": "code",
   "execution_count": null,
   "metadata": {},
   "outputs": [],
   "source": []
  }
 ],
 "metadata": {
  "kernelspec": {
   "display_name": "Python [conda env:tf2] *",
   "language": "python",
   "name": "conda-env-tf2-py"
  },
  "language_info": {
   "codemirror_mode": {
    "name": "ipython",
    "version": 3
   },
   "file_extension": ".py",
   "mimetype": "text/x-python",
   "name": "python",
   "nbconvert_exporter": "python",
   "pygments_lexer": "ipython3",
   "version": "3.7.5"
  }
 },
 "nbformat": 4,
 "nbformat_minor": 2
}
