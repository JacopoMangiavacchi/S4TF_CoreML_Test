{
 "cells": [
  {
   "cell_type": "code",
   "execution_count": 1,
   "metadata": {},
   "outputs": [
    {
     "name": "stderr",
     "output_type": "stream",
     "text": [
      "WARNING:root:TensorFlow version 2.0.0 detected. Last version known to be fully compatible is 1.14.0 .\n"
     ]
    }
   ],
   "source": [
    "import tensorflow as tf\n",
    "from tensorflow.keras.models import Sequential, Model\n",
    "from tensorflow.keras.layers import Dense, Flatten, Input\n",
    "\n",
    "import tfcoreml"
   ]
  },
  {
   "cell_type": "code",
   "execution_count": 2,
   "metadata": {},
   "outputs": [],
   "source": [
    "keras_model = Sequential([\n",
    "    Dense(1, input_shape=[1]),\n",
    "])\n",
    "\n",
    "keras_model.save('./model.h5')"
   ]
  },
  {
   "cell_type": "code",
   "execution_count": 3,
   "metadata": {},
   "outputs": [
    {
     "name": "stdout",
     "output_type": "stream",
     "text": [
      "(None, 1)\n",
      "dense_input\n",
      "dense/Identity\n",
      "Identity\n",
      "WARNING:tensorflow:No training configuration found in save file: the model was *not* compiled. Compile it manually.\n"
     ]
    },
    {
     "name": "stderr",
     "output_type": "stream",
     "text": [
      "WARNING:tensorflow:No training configuration found in save file: the model was *not* compiled. Compile it manually.\n"
     ]
    },
    {
     "name": "stdout",
     "output_type": "stream",
     "text": [
      "0 assert nodes deleted\n",
      "['sequential/dense/MatMul/ReadVariableOp:0', 'sequential/dense/BiasAdd/ReadVariableOp/resource:0', 'sequential/dense/BiasAdd/ReadVariableOp:0', 'sequential/dense/MatMul/ReadVariableOp/resource:0']\n",
      "2 nodes deleted\n",
      "0 nodes deleted\n",
      "0 nodes deleted\n",
      "[Op Fusion] fuse_bias_add() deleted 2 nodes.\n",
      "2 identity nodes deleted\n",
      "1 disconnected nodes deleted\n",
      "[SSAConverter] Converting function main ...\n",
      "[SSAConverter] [1/2] Converting op type: 'Placeholder', name: 'dense_input', output_shape: (1, 1).\n",
      "[SSAConverter] [2/2] Converting op type: 'MatMul', name: 'Identity', output_shape: (1, 1).\n"
     ]
    },
    {
     "data": {
      "text/plain": [
       "input {\n",
       "  name: \"dense_input\"\n",
       "  type {\n",
       "    multiArrayType {\n",
       "      shape: 1\n",
       "      shape: 1\n",
       "      dataType: DOUBLE\n",
       "    }\n",
       "  }\n",
       "}\n",
       "output {\n",
       "  name: \"Identity\"\n",
       "  type {\n",
       "    multiArrayType {\n",
       "      dataType: DOUBLE\n",
       "    }\n",
       "  }\n",
       "}\n",
       "metadata {\n",
       "  userDefined {\n",
       "    key: \"coremltoolsVersion\"\n",
       "    value: \"3.1\"\n",
       "  }\n",
       "}"
      ]
     },
     "execution_count": 3,
     "metadata": {},
     "output_type": "execute_result"
    }
   ],
   "source": [
    "print(keras_model.input_shape)\n",
    "\n",
    "# get input, output node names for the TF graph from the Keras model\n",
    "input_name = keras_model.inputs[0].name.split(':')[0]\n",
    "keras_output_node_name = keras_model.outputs[0].name.split(':')[0]\n",
    "graph_output_node_name = keras_output_node_name.split('/')[-1]\n",
    "\n",
    "print(input_name)\n",
    "print(keras_output_node_name)\n",
    "print(graph_output_node_name)\n",
    "\n",
    "core_model = tfcoreml.convert(tf_model_path='./model.h5',\n",
    "                         input_name_shape_dict={input_name: (1, 1)},\n",
    "                         output_feature_names=[graph_output_node_name],\n",
    "                         minimum_ios_deployment_target='13')\n",
    "core_model.save('./model.mlmodel')\n",
    "\n",
    "core_model"
   ]
  },
  {
   "cell_type": "code",
   "execution_count": 4,
   "metadata": {},
   "outputs": [
    {
     "data": {
      "text/plain": [
       "specificationVersion: 4\n",
       "description {\n",
       "  input {\n",
       "    name: \"dense_input\"\n",
       "    type {\n",
       "      multiArrayType {\n",
       "        shape: 1\n",
       "        shape: 1\n",
       "        dataType: DOUBLE\n",
       "      }\n",
       "    }\n",
       "  }\n",
       "  output {\n",
       "    name: \"Identity\"\n",
       "    type {\n",
       "      multiArrayType {\n",
       "        dataType: DOUBLE\n",
       "      }\n",
       "    }\n",
       "  }\n",
       "  metadata {\n",
       "    userDefined {\n",
       "      key: \"coremltoolsVersion\"\n",
       "      value: \"3.1\"\n",
       "    }\n",
       "  }\n",
       "}\n",
       "neuralNetwork {\n",
       "  layers {\n",
       "    name: \"Identity\"\n",
       "    input: \"dense_input\"\n",
       "    output: \"Identity\"\n",
       "    inputTensor {\n",
       "      rank: 2\n",
       "      dimValue: 1\n",
       "      dimValue: 1\n",
       "    }\n",
       "    outputTensor {\n",
       "      rank: 2\n",
       "      dimValue: 1\n",
       "      dimValue: 1\n",
       "    }\n",
       "    batchedMatmul {\n",
       "      weightMatrixFirstDimension: 1\n",
       "      weightMatrixSecondDimension: 1\n",
       "      hasBias: true\n",
       "      weights {\n",
       "        floatValue: -0.4110192060470581\n",
       "      }\n",
       "      bias {\n",
       "        floatValue: 0.0\n",
       "      }\n",
       "    }\n",
       "  }\n",
       "  arrayInputShapeMapping: EXACT_ARRAY_MAPPING\n",
       "  imageInputShapeMapping: RANK4_IMAGE_MAPPING\n",
       "}"
      ]
     },
     "execution_count": 4,
     "metadata": {},
     "output_type": "execute_result"
    }
   ],
   "source": [
    "spec = core_model.get_spec()\n",
    "spec"
   ]
  },
  {
   "cell_type": "code",
   "execution_count": null,
   "metadata": {},
   "outputs": [],
   "source": [
    "data = {'dense_input': [1.0, 1.0, 1.0]}\n",
    "predictions = core_model.predict(data)"
   ]
  },
  {
   "cell_type": "code",
   "execution_count": null,
   "metadata": {},
   "outputs": [],
   "source": []
  }
 ],
 "metadata": {
  "kernelspec": {
   "display_name": "Python [conda env:tf2] *",
   "language": "python",
   "name": "conda-env-tf2-py"
  },
  "language_info": {
   "codemirror_mode": {
    "name": "ipython",
    "version": 3
   },
   "file_extension": ".py",
   "mimetype": "text/x-python",
   "name": "python",
   "nbconvert_exporter": "python",
   "pygments_lexer": "ipython3",
   "version": "3.7.5"
  }
 },
 "nbformat": 4,
 "nbformat_minor": 2
}
